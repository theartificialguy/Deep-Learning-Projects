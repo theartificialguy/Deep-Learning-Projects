{
  "nbformat": 4,
  "nbformat_minor": 0,
  "metadata": {
    "colab": {
      "name": "PyTorch Basics.ipynb",
      "provenance": [],
      "collapsed_sections": []
    },
    "kernelspec": {
      "name": "python3",
      "display_name": "Python 3"
    },
    "language_info": {
      "name": "python"
    }
  },
  "cells": [
    {
      "cell_type": "code",
      "metadata": {
        "id": "EbZ_TKW4jmNi"
      },
      "source": [
        "import torch\n",
        "import numpy as np"
      ],
      "execution_count": 1,
      "outputs": []
    },
    {
      "cell_type": "markdown",
      "metadata": {
        "id": "b7hbPXE_mcj9"
      },
      "source": [
        "CREATION"
      ]
    },
    {
      "cell_type": "code",
      "metadata": {
        "colab": {
          "base_uri": "https://localhost:8080/"
        },
        "id": "PX9ppFdpjqBY",
        "outputId": "59b100e2-f93a-4416-bef8-44e54e141705"
      },
      "source": [
        "# To create an empty tensor:\n",
        "x = torch.empty(1) # give any dimensions eg = x; (x,y); (x,y,z); (p,q,r,s)\n",
        "print(x)\n",
        "\n",
        "x = torch.rand(2,2) # a random valued tensor\n",
        "print(x)\n",
        "\n",
        "x = torch.zeros(2,2) # zero valued tensor\n",
        "print(x)\n",
        "\n",
        "x = torch.ones(2,2, dtype=torch.int) # one valued tensor\n",
        "print(x)\n",
        "print(x.size()) # to print shape/size"
      ],
      "execution_count": 3,
      "outputs": [
        {
          "output_type": "stream",
          "text": [
            "tensor([-1.4131e-38])\n",
            "tensor([[0.4630, 0.7778],\n",
            "        [0.4913, 0.5367]])\n",
            "tensor([[0., 0.],\n",
            "        [0., 0.]])\n",
            "tensor([[1, 1],\n",
            "        [1, 1]], dtype=torch.int32)\n",
            "torch.Size([2, 2])\n"
          ],
          "name": "stdout"
        }
      ]
    },
    {
      "cell_type": "code",
      "metadata": {
        "colab": {
          "base_uri": "https://localhost:8080/"
        },
        "id": "wqfuXj19jp8o",
        "outputId": "bd3fc3d8-c32a-4bfc-a048-6232920b33da"
      },
      "source": [
        "# Create torch tensor from python list\n",
        "x = torch.tensor([10.34, 4.75])\n",
        "print(x)"
      ],
      "execution_count": 4,
      "outputs": [
        {
          "output_type": "stream",
          "text": [
            "tensor([10.3400,  4.7500])\n"
          ],
          "name": "stdout"
        }
      ]
    },
    {
      "cell_type": "markdown",
      "metadata": {
        "id": "qFXAzMjJmetj"
      },
      "source": [
        "BASIC OPERATIONS"
      ]
    },
    {
      "cell_type": "code",
      "metadata": {
        "colab": {
          "base_uri": "https://localhost:8080/"
        },
        "id": "NxSDLr-pjp6l",
        "outputId": "024c9558-c976-4fdb-f307-a247ae1cd261"
      },
      "source": [
        "x = torch.rand(2,2)\n",
        "y = torch.rand(2,2)\n",
        "\n",
        "z = x + y\n",
        "print(z)\n",
        "# or\n",
        "z = torch.add(x, y)\n",
        "print(z)\n",
        "# in-place operations, in pytorch in-place operations can be determined by \"_\"\n",
        "y.add_(x) # this will modify y tensor.\n",
        "print(y)\n",
        "\n",
        "# simimlarly, torch.sub, torch.div, torch.mul etc."
      ],
      "execution_count": 7,
      "outputs": [
        {
          "output_type": "stream",
          "text": [
            "tensor([[1.0965, 0.8588],\n",
            "        [0.9866, 1.7742]])\n",
            "tensor([[1.0965, 0.8588],\n",
            "        [0.9866, 1.7742]])\n",
            "tensor([[1.0965, 0.8588],\n",
            "        [0.9866, 1.7742]])\n"
          ],
          "name": "stdout"
        }
      ]
    },
    {
      "cell_type": "markdown",
      "metadata": {
        "id": "mSDISDwRngsU"
      },
      "source": [
        "SLICING"
      ]
    },
    {
      "cell_type": "code",
      "metadata": {
        "colab": {
          "base_uri": "https://localhost:8080/"
        },
        "id": "F4rxjPAqjp4Z",
        "outputId": "36e38e72-fe1f-434e-b4c2-0d85e495b8a9"
      },
      "source": [
        "x = torch.rand(5,3)\n",
        "print(x)\n",
        "print(x[:, 0])"
      ],
      "execution_count": 9,
      "outputs": [
        {
          "output_type": "stream",
          "text": [
            "tensor([[0.0112, 0.2087, 0.7695],\n",
            "        [0.3967, 0.5818, 0.8789],\n",
            "        [0.7758, 0.9055, 0.0750],\n",
            "        [0.5277, 0.2321, 0.8348],\n",
            "        [0.3132, 0.9311, 0.5115]])\n",
            "tensor([0.0112, 0.3967, 0.7758, 0.5277, 0.3132])\n"
          ],
          "name": "stdout"
        }
      ]
    },
    {
      "cell_type": "code",
      "metadata": {
        "colab": {
          "base_uri": "https://localhost:8080/"
        },
        "id": "qFKIT4m2ngNR",
        "outputId": "fe32a4f7-c07f-49d0-a97e-dcc7ad82bd1b"
      },
      "source": [
        "# when you have only 1 element in your tensor, we can do this to get actual value:\n",
        "print(x[1, 1].item())"
      ],
      "execution_count": 10,
      "outputs": [
        {
          "output_type": "stream",
          "text": [
            "0.5817717909812927\n"
          ],
          "name": "stdout"
        }
      ]
    },
    {
      "cell_type": "markdown",
      "metadata": {
        "id": "PBZTRfSJoTQ_"
      },
      "source": [
        "RESHAPING"
      ]
    },
    {
      "cell_type": "code",
      "metadata": {
        "colab": {
          "base_uri": "https://localhost:8080/"
        },
        "id": "HouHY6rvngEj",
        "outputId": "03b49fb4-4f6e-458e-aa45-003ddff1ac86"
      },
      "source": [
        "x = torch.rand(4, 4)\n",
        "print(x)\n",
        "\n",
        "y = x.view(16) # number of elements must be same !\n",
        "print(y)\n",
        "\n",
        "y = x.view(-1, 8) # -1 indicates okay pytorch calculate 1st dim yourself, i want 2nd dim to be 8"
      ],
      "execution_count": 11,
      "outputs": [
        {
          "output_type": "stream",
          "text": [
            "tensor([[0.5057, 0.3594, 0.5016, 0.0699],\n",
            "        [0.9506, 0.5339, 0.4988, 0.7699],\n",
            "        [0.9599, 0.8566, 0.8641, 0.9499],\n",
            "        [0.7621, 0.4866, 0.5395, 0.8142]])\n",
            "tensor([0.5057, 0.3594, 0.5016, 0.0699, 0.9506, 0.5339, 0.4988, 0.7699, 0.9599,\n",
            "        0.8566, 0.8641, 0.9499, 0.7621, 0.4866, 0.5395, 0.8142])\n"
          ],
          "name": "stdout"
        }
      ]
    },
    {
      "cell_type": "markdown",
      "metadata": {
        "id": "M5oYryubo-xm"
      },
      "source": [
        "NUMPY TO TENSOR OR VICE-VERSA"
      ]
    },
    {
      "cell_type": "code",
      "metadata": {
        "colab": {
          "base_uri": "https://localhost:8080/"
        },
        "id": "y1HWrKGpngAK",
        "outputId": "fb9a3ac2-0045-4ee9-c6bc-d07b8fb63a70"
      },
      "source": [
        "# tensor to numpy array\n",
        "a = torch.ones(5)\n",
        "print(a)\n",
        "b = a.numpy()\n",
        "print(b)\n",
        "print(type(b))"
      ],
      "execution_count": 14,
      "outputs": [
        {
          "output_type": "stream",
          "text": [
            "tensor([1., 1., 1., 1., 1.])\n",
            "[1. 1. 1. 1. 1.]\n",
            "<class 'numpy.ndarray'>\n"
          ],
          "name": "stdout"
        }
      ]
    },
    {
      "cell_type": "code",
      "metadata": {
        "colab": {
          "base_uri": "https://localhost:8080/"
        },
        "id": "xoqi7iGkpDcf",
        "outputId": "cbf1e42f-7fe3-4ffc-cd3b-2c1c264596b2"
      },
      "source": [
        "# numpy array to tensor\n",
        "a = np.ones(5)\n",
        "print(a)\n",
        "b = torch.from_numpy(a)\n",
        "print(b)"
      ],
      "execution_count": 15,
      "outputs": [
        {
          "output_type": "stream",
          "text": [
            "[1. 1. 1. 1. 1.]\n",
            "tensor([1., 1., 1., 1., 1.], dtype=torch.float64)\n"
          ],
          "name": "stdout"
        }
      ]
    },
    {
      "cell_type": "code",
      "metadata": {
        "id": "A7qn-RkQpDYY"
      },
      "source": [
        "x = torch.ones(5, requires_grad=True)\n",
        "# required_grad is False by default,\n",
        "# if True, it means that it tells torch it will need to calc. the gradients for this tensor later in our optimization steps."
      ],
      "execution_count": 17,
      "outputs": []
    },
    {
      "cell_type": "markdown",
      "metadata": {
        "id": "d9N84qu4rUX6"
      },
      "source": [
        "AUTOGRAD - Gradient computation"
      ]
    },
    {
      "cell_type": "code",
      "metadata": {
        "colab": {
          "base_uri": "https://localhost:8080/"
        },
        "id": "g0_zP1VIpDVz",
        "outputId": "915cce30-603a-4d58-c84a-ebf4ddf94f64"
      },
      "source": [
        "x = torch.randn(3, requires_grad=True)\n",
        "print(x)"
      ],
      "execution_count": 19,
      "outputs": [
        {
          "output_type": "stream",
          "text": [
            "tensor([ 0.6645, -0.1210, -0.2901], requires_grad=True)\n"
          ],
          "name": "stdout"
        }
      ]
    },
    {
      "cell_type": "code",
      "metadata": {
        "colab": {
          "base_uri": "https://localhost:8080/"
        },
        "id": "dwBOY_pxrocK",
        "outputId": "7196fe90-a0cf-4a39-edfc-f7e7c7f07a2b"
      },
      "source": [
        "y = x + 2\n",
        "print(y)\n",
        "# the \"grad_fn\" is created by torch as we mentioned \"requires_grad=True\", this basically creates gradients for backprop function.\n",
        "# so to perform backprop on y, we can use grad_fn on y.\n",
        "z = y*y*2\n",
        "print(z)\n",
        "z = z.mean()\n",
        "print(z)\n",
        "\n",
        "# now if we apply backprop on z:\n",
        "z.backward() # dz/dx, we get these grads by \"jacobian vectors and thier partial derivatives, chain rule\"\n",
        "# if z wasn't a scalar, then we would have to provide the same dim tensor as like \"z\", eg:\n",
        "# v = torch.tensor([0.1, 1.0, 0.001], dtype=torch.float32)\n",
        "# z.backward(v)\n",
        "print(x.grad) # to get gradients values"
      ],
      "execution_count": 25,
      "outputs": [
        {
          "output_type": "stream",
          "text": [
            "tensor([2.6645, 1.8790, 1.7099], grad_fn=<AddBackward0>)\n",
            "tensor([14.1991,  7.0614,  5.8477], grad_fn=<MulBackward0>)\n",
            "tensor(9.0361, grad_fn=<MeanBackward0>)\n",
            "tensor([14.2106, 10.0214,  9.1196])\n"
          ],
          "name": "stdout"
        }
      ]
    },
    {
      "cell_type": "code",
      "metadata": {
        "id": "7Z287B74rt_J"
      },
      "source": [
        "# methods to prevent \"x\" from tracking the gradients:\n",
        "# x.requires_grad_(False)\n",
        "# x.detach()\n",
        "# with torch.no_grad():"
      ],
      "execution_count": null,
      "outputs": []
    },
    {
      "cell_type": "code",
      "metadata": {
        "colab": {
          "base_uri": "https://localhost:8080/"
        },
        "id": "cWPPJJRRrt7T",
        "outputId": "082c697a-05a8-490c-edc3-fd6ce33c79d6"
      },
      "source": [
        "# important things in training step:\n",
        "\n",
        "weights = torch.ones(4, requires_grad=True)\n",
        "\n",
        "for epoch in range(4):\n",
        "    model_output = (weights*3).sum()\n",
        "    model_output.backward()\n",
        "    print(weights.grad)\n",
        "    weights.grad.zero_() # to empty the gradients"
      ],
      "execution_count": 32,
      "outputs": [
        {
          "output_type": "stream",
          "text": [
            "tensor([3., 3., 3., 3.])\n",
            "tensor([3., 3., 3., 3.])\n",
            "tensor([3., 3., 3., 3.])\n",
            "tensor([3., 3., 3., 3.])\n"
          ],
          "name": "stdout"
        }
      ]
    },
    {
      "cell_type": "markdown",
      "metadata": {
        "id": "Z97sdUMflHA7"
      },
      "source": [
        "BACKPROPAGATION"
      ]
    },
    {
      "cell_type": "code",
      "metadata": {
        "colab": {
          "base_uri": "https://localhost:8080/"
        },
        "id": "mQDXmS44rt5G",
        "outputId": "c13f7154-30a0-49ae-8e79-86470ab23ccd"
      },
      "source": [
        "x = torch.tensor(1.0)\n",
        "y = torch.tensor(2.0)\n",
        "w = torch.tensor(1.0, requires_grad=True)\n",
        "\n",
        "# forward pass and compute the loss\n",
        "y_hat = w * x\n",
        "loss = (y_hat - y)**2\n",
        "\n",
        "print(loss)\n",
        "\n",
        "# backward pass\n",
        "loss.backward()\n",
        "print(w.grad)\n",
        "\n",
        "# update the weights\n",
        "# next forward and backward pass"
      ],
      "execution_count": 4,
      "outputs": [
        {
          "output_type": "stream",
          "text": [
            "tensor(1., grad_fn=<PowBackward0>)\n",
            "tensor(-2.)\n"
          ],
          "name": "stdout"
        }
      ]
    },
    {
      "cell_type": "markdown",
      "metadata": {
        "id": "ZZtMZrchm8Z5"
      },
      "source": [
        "AUTOGRAD AND GRADIENT DESCENT"
      ]
    },
    {
      "cell_type": "code",
      "metadata": {
        "colab": {
          "base_uri": "https://localhost:8080/"
        },
        "id": "Gn4CIBAilFoJ",
        "outputId": "f235358d-d6a9-4aba-fcb3-cc8c4e7af513"
      },
      "source": [
        "# First with numpy\n",
        "\n",
        "# Linear Regression Problem\n",
        "\n",
        "# f = w*x ; f = 2*x i.e. w = 2\n",
        "X = np.array([1,2,3,4], dtype=np.float32)\n",
        "y = np.array([2,4,6,8], dtype=np.float32)\n",
        "\n",
        "w = 0.0\n",
        "\n",
        "# model prediction i.e. forward pass or scoring function\n",
        "def forward(x):\n",
        "    return w * x\n",
        "\n",
        "# loss computation = MSE\n",
        "def loss(y, y_hat):\n",
        "    return ((y_hat - y)**2).mean()\n",
        "\n",
        "# calculate gradient of loss w.r.t each parameter\n",
        "# MSE = 1/N*(w*x-y)**2\n",
        "# dJ/dw = 1/N*2*x*(w*x-y)\n",
        "def gradient(x, y, y_hat):\n",
        "    return np.dot(2*x, y_hat-y).mean()\n",
        "\n",
        "print(\"Prediction before training: f(5) = {:.3f}\".format(forward(5)))\n",
        "\n",
        "# Training\n",
        "learning_rate = 0.01\n",
        "n_iters = 20\n",
        "\n",
        "for epoch in range(n_iters):\n",
        "    y_hat = forward(X)\n",
        "    l = loss(y, y_hat)\n",
        "    dw = gradient(X, y, y_hat)\n",
        "    w = w - learning_rate*dw\n",
        "    if epoch%2 == 0:\n",
        "        print(\"epoch: {}: w = {:.3f}, loss = {:.8f}\".format(epoch, w, l))\n",
        "\n",
        "print(\"Prediction after training: f(5) = {:.3f}\".format(forward(5)))"
      ],
      "execution_count": 6,
      "outputs": [
        {
          "output_type": "stream",
          "text": [
            "Prediction before training: f(5) = 0.000\n",
            "epoch: 0: w = 1.200, loss = 30.00000000\n",
            "epoch: 2: w = 1.872, loss = 0.76800019\n",
            "epoch: 4: w = 1.980, loss = 0.01966083\n",
            "epoch: 6: w = 1.997, loss = 0.00050331\n",
            "epoch: 8: w = 1.999, loss = 0.00001288\n",
            "epoch: 10: w = 2.000, loss = 0.00000033\n",
            "epoch: 12: w = 2.000, loss = 0.00000001\n",
            "epoch: 14: w = 2.000, loss = 0.00000000\n",
            "epoch: 16: w = 2.000, loss = 0.00000000\n",
            "epoch: 18: w = 2.000, loss = 0.00000000\n",
            "Prediction after training: f(5) = 10.000\n"
          ],
          "name": "stdout"
        }
      ]
    },
    {
      "cell_type": "code",
      "metadata": {
        "id": "NZadT6BZlFV0"
      },
      "source": [
        "# Now with PyTorch (gradients)\n",
        "\n",
        "# f = w*x ; f = 2*x i.e. w = 2\n",
        "X = torch.tensor([1,2,3,4], dtype=torch.float32)\n",
        "y = torch.tensor([2,4,6,8], dtype=torch.float32)\n",
        "\n",
        "w = torch.tensor(0.0, requires_grad=True, dtype=torch.float32)\n",
        "\n",
        "# model prediction i.e. forward pass or scoring function\n",
        "def forward(x):\n",
        "    return w * x\n",
        "\n",
        "# loss computation = MSE\n",
        "def loss(y, y_hat):\n",
        "    return ((y_hat - y)**2).mean()\n",
        "\n",
        "print(\"Prediction before training: f(5) = {:.3f}\".format(forward(5)))\n",
        "\n",
        "# Training\n",
        "learning_rate = 0.01\n",
        "n_iters = 20\n",
        "\n",
        "for epoch in range(n_iters):\n",
        "    y_hat = forward(X)\n",
        "    l = loss(y, y_hat)\n",
        "    l.backward() # dloss/dw\n",
        "    with torch.no_grad():\n",
        "        w = w - learning_rate*w.grad # update weights\n",
        "    # zero the gradients\n",
        "    w.grad.zero_()\n",
        "    if epoch%2 == 0:\n",
        "        print(\"epoch: {}: w = {:.3f}, loss = {:.8f}\".format(epoch, w, l))\n",
        "\n",
        "print(\"Prediction after training: f(5) = {:.3f}\".format(forward(5)))"
      ],
      "execution_count": null,
      "outputs": []
    },
    {
      "cell_type": "code",
      "metadata": {
        "id": "E0Xt0yeynIs5"
      },
      "source": [
        "# PyTorch training pipeline (forward, loss, gradient, optimizer)\n",
        "\n",
        "# Training Pipeline :=>\n",
        "# 1) Design Model (input, output, forward pass)\n",
        "# 2) Construct loss and optimzer\n",
        "# 3) Training loop :\n",
        "#       -- forward pass : compute prediction/scoring function\n",
        "#       -- calculate loss\n",
        "#       -- backward pass : compute gradients\n",
        "#       -- update weights\n",
        "\n",
        "import torch.nn as nn"
      ],
      "execution_count": 11,
      "outputs": []
    },
    {
      "cell_type": "code",
      "metadata": {
        "colab": {
          "base_uri": "https://localhost:8080/"
        },
        "id": "Iqboap9Bydqx",
        "outputId": "a9401e16-dfbc-4bf2-a01e-d900c149e602"
      },
      "source": [
        "# X = torch.tensor([1,2,3,4], dtype=torch.float32)\n",
        "# y = torch.tensor([2,4,6,8], dtype=torch.float32)\n",
        "X = torch.tensor([[1],[2],[3],[4]], dtype=torch.float32)\n",
        "y = torch.tensor([[2],[4],[6],[8]], dtype=torch.float32)\n",
        "\n",
        "X_test = torch.tensor([5], dtype=torch.float32)\n",
        "\n",
        "n_samples, n_features = X.shape\n",
        "print(n_samples, n_features)\n",
        "\n",
        "input_size = n_features\n",
        "output_size = n_features\n",
        "\n",
        "# model prediction i.e. forward pass or scoring function\n",
        "# def forward(x):\n",
        "#     return w * x\n",
        "\n",
        "model = nn.Linear(input_size, output_size)\n",
        "\n",
        "print(\"Prediction before training: f(5) = {:.3f}\".format(model(X_test).item()))\n",
        "\n",
        "# Training\n",
        "learning_rate = 0.01\n",
        "n_iters = 100\n",
        "\n",
        "# loss computation = MSE\n",
        "loss = nn.MSELoss()\n",
        "# optimizer = torch.optim.SGD([w], lr=learning_rate)\n",
        "optimizer = torch.optim.SGD(model.parameters(), lr=learning_rate)\n",
        "\n",
        "for epoch in range(n_iters):\n",
        "    y_hat = model(X)\n",
        "    l = loss(y, y_hat)\n",
        "    l.backward() # dloss/dw\n",
        "    optimizer.step()\n",
        "    # zero the gradients\n",
        "    optimizer.zero_grad()\n",
        "    if epoch%10 == 0:\n",
        "        [w, b] = model.parameters()\n",
        "        print(\"epoch: {}: w = {:.3f}, loss = {:.8f}\".format(epoch, w[0][0].item(), l))\n",
        "\n",
        "print(\"Prediction after training: f(5) = {:.3f}\".format(model(X_test).item()))"
      ],
      "execution_count": 16,
      "outputs": [
        {
          "output_type": "stream",
          "text": [
            "4 1\n",
            "Prediction before training: f(5) = 3.849\n",
            "epoch: 0: w = 0.775, loss = 9.54336452\n",
            "epoch: 10: w = 1.485, loss = 0.45141166\n",
            "epoch: 20: w = 1.609, loss = 0.20427784\n",
            "epoch: 30: w = 1.638, loss = 0.18667367\n",
            "epoch: 40: w = 1.652, loss = 0.17566046\n",
            "epoch: 50: w = 1.662, loss = 0.16543232\n",
            "epoch: 60: w = 1.672, loss = 0.15580316\n",
            "epoch: 70: w = 1.682, loss = 0.14673464\n",
            "epoch: 80: w = 1.692, loss = 0.13819385\n",
            "epoch: 90: w = 1.701, loss = 0.13015029\n",
            "Prediction after training: f(5) = 9.400\n"
          ],
          "name": "stdout"
        }
      ]
    },
    {
      "cell_type": "code",
      "metadata": {
        "id": "B-8qYwgEydmT"
      },
      "source": [
        "# If we were to make our own custom model :=>\n",
        "\n",
        "class LinearRegression(nn.Module):\n",
        "    def __init__(self, input_dim, output_dim):\n",
        "        super(LinearRegression, ,self).__init__()\n",
        "        # defining layers\n",
        "        self.linear = nn.Linear(input_dim, output_dim)\n",
        "    \n",
        "    def forward(self, X):\n",
        "        return self.linear(X)\n",
        "\n",
        "model = LinearRegression(input_size, output_size)\n",
        "\n",
        "# This does the same thing as : model = nn.Linear(input_size, output_size)"
      ],
      "execution_count": null,
      "outputs": []
    },
    {
      "cell_type": "markdown",
      "metadata": {
        "id": "09ui2GRoR5jB"
      },
      "source": [
        "LINEAR REGRESSION"
      ]
    },
    {
      "cell_type": "code",
      "metadata": {
        "id": "Zy6X4k8lSRrh"
      },
      "source": [
        "import torch\n",
        "import torch.nn as nn\n",
        "import numpy as np\n",
        "from sklearn import datasets\n",
        "import matplotlib.pyplot as plt"
      ],
      "execution_count": 2,
      "outputs": []
    },
    {
      "cell_type": "code",
      "metadata": {
        "id": "eIbU52Y2VTd9"
      },
      "source": [
        "class LinearRegression(nn.Module):\n",
        "    def __init__(self, input_dim, output_dim):\n",
        "        super(LinearRegression, self).__init__()\n",
        "        # layers\n",
        "        self.linear = nn.Linear(input_dim, output_dim)\n",
        "\n",
        "    def forward(self, X):\n",
        "        return self.linear(X)"
      ],
      "execution_count": null,
      "outputs": []
    },
    {
      "cell_type": "code",
      "metadata": {
        "colab": {
          "base_uri": "https://localhost:8080/"
        },
        "id": "g1E66wJM9iHZ",
        "outputId": "3f710ec3-1f7f-41e5-da3f-a9a6787f5215"
      },
      "source": [
        "# step 1: prepare data\n",
        "X_np, y_np = datasets.make_regression(n_samples=100, n_features=1, noise=20, random_state=1)\n",
        "\n",
        "X = torch.from_numpy(X_np.astype(np.float32))\n",
        "y = torch.from_numpy(y_np.astype(np.float32))\n",
        "y = y.view(y.shape[0], 1)\n",
        "\n",
        "n_samples, n_features = X.shape\n",
        "\n",
        "# step 2: model\n",
        "input_size = n_features\n",
        "output_size = 1\n",
        "\n",
        "model = LinearRegression(input_size, output_size)\n",
        "\n",
        "# step 3: loss and optimizer\n",
        "learning_rate = 0.01\n",
        "loss = nn.MSELoss()\n",
        "optimizer = torch.optim.SGD(model.parameters(), lr=learning_rate)\n",
        "\n",
        "# step 4: training\n",
        "n_epochs = 100\n",
        "for epoch in range(n_epochs):\n",
        "    # forward propagation\n",
        "    y_pred = model(X)\n",
        "    # compute loss\n",
        "    l = loss(y, y_pred)\n",
        "    # backward propagation and compute gradients\n",
        "    l.backward()\n",
        "    # update weights\n",
        "    optimizer.step()\n",
        "    # empy the gradients\n",
        "    optimizer.zero_grad()\n",
        "\n",
        "    if (epoch+1)%10 == 0:\n",
        "        print(\"epoch: {}: loss = {:.8f}\".format(epoch, l.item()))"
      ],
      "execution_count": 31,
      "outputs": [
        {
          "output_type": "stream",
          "text": [
            "epoch: 9: loss = 4344.65869141\n",
            "epoch: 19: loss = 3243.06103516\n",
            "epoch: 29: loss = 2445.77050781\n",
            "epoch: 39: loss = 1868.12219238\n",
            "epoch: 49: loss = 1449.20239258\n",
            "epoch: 59: loss = 1145.12182617\n",
            "epoch: 69: loss = 924.21795654\n",
            "epoch: 79: loss = 763.61657715\n",
            "epoch: 89: loss = 646.77465820\n",
            "epoch: 99: loss = 561.71447754\n"
          ],
          "name": "stdout"
        }
      ]
    },
    {
      "cell_type": "code",
      "metadata": {
        "colab": {
          "base_uri": "https://localhost:8080/",
          "height": 265
        },
        "id": "mYtV9z6W9iDb",
        "outputId": "057b25d3-fb48-43ae-efc6-acef9806c80a"
      },
      "source": [
        "# plotting the training graph\n",
        "y_preds = model(X).detach().numpy() # detaching so that pytorch doesn't include this step in it's computation graph\n",
        "plt.plot(X_np, y_np, 'ro')\n",
        "plt.plot(X_np, y_preds, 'b')\n",
        "plt.show()"
      ],
      "execution_count": 32,
      "outputs": [
        {
          "output_type": "display_data",
          "data": {
            "image/png": "[encoded data removed]",
            "text/plain": [
              "<Figure size 432x288 with 1 Axes>"
            ]
          },
          "metadata": {
            "tags": [],
            "needs_background": "light"
          }
        }
      ]
    },
    {
      "cell_type": "markdown",
      "metadata": {
        "id": "OvhZPra4XMPQ"
      },
      "source": [
        "LOGISTIC REGRESSION"
      ]
    },
    {
      "cell_type": "code",
      "metadata": {
        "id": "8mPutT_89iBD"
      },
      "source": [
        "from sklearn.preprocessing import StandardScaler\n",
        "from sklearn.model_selection import train_test_split"
      ],
      "execution_count": 33,
      "outputs": []
    },
    {
      "cell_type": "code",
      "metadata": {
        "id": "9qshxlw-XZHD"
      },
      "source": [
        "# step 1: prepare data\n",
        "breastCancerData = datasets.load_breast_cancer()\n",
        "X, y = breastCancerData.data, breastCancerData.target\n",
        "\n",
        "n_samples, n_features = X.shape\n",
        "\n",
        "X_train, X_test, y_train, y_test = train_test_split(X, y, test_size=0.2, random_state=1234)\n",
        "\n",
        "scalar = StandardScaler() # scaling : 0 mean and 1 variance\n",
        "X_train = scalar.fit_transform(X_train)\n",
        "X_test = scalar.transform(X_test)\n",
        "\n",
        "X_train = torch.from_numpy(X_train.astype(np.float32))\n",
        "X_test = torch.from_numpy(X_test.astype(np.float32))\n",
        "y_train = torch.from_numpy(y_train.astype(np.float32))\n",
        "y_test = torch.from_numpy(y_test.astype(np.float32))\n",
        "\n",
        "y_train = y_train.view(y_train.shape[0], 1)\n",
        "y_test = y_test.view(y_test.shape[0], 1)"
      ],
      "execution_count": 34,
      "outputs": []
    },
    {
      "cell_type": "code",
      "metadata": {
        "id": "izQAFMkoXZC9"
      },
      "source": [
        "# step 2: model\n",
        "\n",
        "# f = w*x+b, followed by sigmoid function\n",
        "class LogisticRegression(nn.Module):\n",
        "    def __init__(self, input_dim, output_dim):\n",
        "        super(LogisticRegression, self).__init__()\n",
        "        # layer\n",
        "        self.linear = nn.Linear(input_dim, output_dim)\n",
        "    \n",
        "    def forward(self, X):\n",
        "        return torch.sigmoid(self.linear(X))\n",
        "\n",
        "input_size = n_features\n",
        "output_size = 1\n",
        "\n",
        "model = LogisticRegression(input_size, output_size)"
      ],
      "execution_count": 36,
      "outputs": []
    },
    {
      "cell_type": "code",
      "metadata": {
        "colab": {
          "base_uri": "https://localhost:8080/"
        },
        "id": "qeUTiHc5XZAU",
        "outputId": "0bd14ee9-07f7-44ee-df3f-52abbf7eb6ad"
      },
      "source": [
        "# step 3: loss and optimizer\n",
        "learning_rate = 0.01\n",
        "loss = nn.BCELoss()\n",
        "optimizer = torch.optim.SGD(model.parameters(), lr=learning_rate)\n",
        "\n",
        "# step 4: training\n",
        "n_epochs = 100\n",
        "\n",
        "for epoch in range(n_epochs):\n",
        "    y_pred = model(X_train)\n",
        "    l = loss(y_pred, y_train)\n",
        "    l.backward()\n",
        "    optimizer.step()\n",
        "    optimizer.zero_grad()\n",
        "\n",
        "    if (epoch+1)%10 == 0:\n",
        "        print(\"epoch: {}: loss = {:.8f}\".format(epoch, l.item()))"
      ],
      "execution_count": 38,
      "outputs": [
        {
          "output_type": "stream",
          "text": [
            "epoch: 9: loss = 0.60327399\n",
            "epoch: 19: loss = 0.49055237\n",
            "epoch: 29: loss = 0.41807005\n",
            "epoch: 39: loss = 0.36836666\n",
            "epoch: 49: loss = 0.33242160\n",
            "epoch: 59: loss = 0.30527392\n",
            "epoch: 69: loss = 0.28402448\n",
            "epoch: 79: loss = 0.26689047\n",
            "epoch: 89: loss = 0.25272787\n",
            "epoch: 99: loss = 0.24077550\n"
          ],
          "name": "stdout"
        }
      ]
    },
    {
      "cell_type": "code",
      "metadata": {
        "colab": {
          "base_uri": "https://localhost:8080/"
        },
        "id": "yh6V_6NYXY9U",
        "outputId": "8eed2225-7772-4311-ed69-e0745fbbade6"
      },
      "source": [
        "with torch.no_grad(): # to avoid grads calcs in torch computation graph\n",
        "    y_preds = model(X_test)\n",
        "    y_preds_classes = y_preds.round()\n",
        "    accuracy = y_preds_classes.eq(y_test).sum() / float(y_test.shape[0])\n",
        "    print(\"Accuracy = {:.4f}\".format(accuracy))"
      ],
      "execution_count": 39,
      "outputs": [
        {
          "output_type": "stream",
          "text": [
            "Accuracy = 0.9211\n"
          ],
          "name": "stdout"
        }
      ]
    },
    {
      "cell_type": "markdown",
      "metadata": {
        "id": "L9McWqKNzNuX"
      },
      "source": [
        "PYTORCH DATASET AND DATALOADER"
      ]
    },
    {
      "cell_type": "code",
      "metadata": {
        "id": "kHzMXRvJcsuu"
      },
      "source": [
        "import math\n",
        "import torchvision\n",
        "from torch.utils.data import Dataset, DataLoader"
      ],
      "execution_count": 1,
      "outputs": []
    },
    {
      "cell_type": "code",
      "metadata": {
        "id": "SEIiqJCKctQr"
      },
      "source": [
        "class WineDataset(Dataset):\n",
        "    def __init__(self):\n",
        "        # data loading\n",
        "        data = np.loadtxt(\"/content/sample_data/wine.csv\", delimiter=\",\", dtype=np.float32, skiprows=1)\n",
        "        self.X = torch.from_numpy(data[:, 1:])\n",
        "        self.Y = torch.from_numpy(data[:, [0]])\n",
        "        self.n_samples = data.shape[0]\n",
        "    \n",
        "    def __getitem__(self, index):\n",
        "        # for indexing, dataset[0]\n",
        "        return self.X[index], self.Y[index]\n",
        "    \n",
        "    def __len__(self):\n",
        "        # len(dataset)\n",
        "        return self.n_samples"
      ],
      "execution_count": 43,
      "outputs": []
    },
    {
      "cell_type": "code",
      "metadata": {
        "colab": {
          "base_uri": "https://localhost:8080/"
        },
        "id": "zpoBmQbZzcKh",
        "outputId": "1a6d30ed-1dce-4000-dba0-f49436ef0b0d"
      },
      "source": [
        "dataset = WineDataset()\n",
        "dataloader = DataLoader(dataset=dataset, batch_size=4, shuffle=True, num_workers=2)\n",
        "\n",
        "# training\n",
        "n_epochs = 2\n",
        "batch_size = 4\n",
        "total_samples = len(dataset)\n",
        "n_iters = math.ceil(total_samples/batch_size)\n",
        "\n",
        "for epoch in range(n_epochs):\n",
        "    for i, (inputs, labels) in enumerate(dataloader):\n",
        "        # calculations\n",
        "        if (i+1)%5 == 0:\n",
        "            print(\"epoch {}/{}, step {}/{}, inputs {}\".format(epoch+1, n_epochs, i+1, n_iters, inputs.shape))"
      ],
      "execution_count": 53,
      "outputs": [
        {
          "output_type": "stream",
          "text": [
            "epoch 1/2, step 5/45, inputs torch.Size([4, 13])\n",
            "epoch 1/2, step 10/45, inputs torch.Size([4, 13])\n",
            "epoch 1/2, step 15/45, inputs torch.Size([4, 13])\n",
            "epoch 1/2, step 20/45, inputs torch.Size([4, 13])\n",
            "epoch 1/2, step 25/45, inputs torch.Size([4, 13])\n",
            "epoch 1/2, step 30/45, inputs torch.Size([4, 13])\n",
            "epoch 1/2, step 35/45, inputs torch.Size([4, 13])\n",
            "epoch 1/2, step 40/45, inputs torch.Size([4, 13])\n",
            "epoch 1/2, step 45/45, inputs torch.Size([2, 13])\n",
            "epoch 2/2, step 5/45, inputs torch.Size([4, 13])\n",
            "epoch 2/2, step 10/45, inputs torch.Size([4, 13])\n",
            "epoch 2/2, step 15/45, inputs torch.Size([4, 13])\n",
            "epoch 2/2, step 20/45, inputs torch.Size([4, 13])\n",
            "epoch 2/2, step 25/45, inputs torch.Size([4, 13])\n",
            "epoch 2/2, step 30/45, inputs torch.Size([4, 13])\n",
            "epoch 2/2, step 35/45, inputs torch.Size([4, 13])\n",
            "epoch 2/2, step 40/45, inputs torch.Size([4, 13])\n",
            "epoch 2/2, step 45/45, inputs torch.Size([2, 13])\n"
          ],
          "name": "stdout"
        }
      ]
    },
    {
      "cell_type": "markdown",
      "metadata": {
        "id": "oGDV3xUyr_If"
      },
      "source": [
        "SOFTMAX ACTIVATION FUNCTION AND CROSSENTROPY LOSS"
      ]
    },
    {
      "cell_type": "code",
      "metadata": {
        "colab": {
          "base_uri": "https://localhost:8080/"
        },
        "id": "PPRZT_dAzcGL",
        "outputId": "ae26c363-bf26-4b36-d459-c868a34e813c"
      },
      "source": [
        "# Activation functions : actvation functions apply a non-linear transformation and decide whether a neuron should be activated or not.\n",
        "# softmax activation function :- squashes the output to be between 0 and 1 so we get probabilities.\n",
        "\n",
        "# implementing softmax activation function in numpy\n",
        "def softmax(x):\n",
        "    return np.exp(x) / np.sum(np.exp(x), axis=0)\n",
        "\n",
        "x = np.array([2.0, 1.0, 0.1])\n",
        "outputs = softmax(x)\n",
        "print(outputs)\n",
        "\n",
        "# implementing softmax activation function in pytorch\n",
        "x = torch.tensor([2.0, 1.0, 0.1])\n",
        "outputs = torch.softmax(x, dim=0)\n",
        "print(outputs)"
      ],
      "execution_count": 6,
      "outputs": [
        {
          "output_type": "stream",
          "text": [
            "[0.65900114 0.24243297 0.09856589]\n",
            "tensor([0.6590, 0.2424, 0.0986])\n"
          ],
          "name": "stdout"
        }
      ]
    },
    {
      "cell_type": "code",
      "metadata": {
        "colab": {
          "base_uri": "https://localhost:8080/"
        },
        "id": "VelhAbNxzcDZ",
        "outputId": "31bce0c3-eced-4321-8b42-5da87f5f953e"
      },
      "source": [
        "# Crossentropy Loss :- this measures the performance of our CLASSIFICATION MODEL whose output is a probability btw 0 and 1.\n",
        "# It can be used in multiclass problems.\n",
        "# CEL(y_pred, y) = -(1/N)*np.sum(y*np.log(y_pred))\n",
        "\n",
        "# In Numpy\n",
        "\n",
        "def cross_entropy_loss(y, y_pred):\n",
        "    return -np.sum(y*np.log(y_pred))\n",
        "\n",
        "# y must be one-hot encoded; i.e. \n",
        "# if class 0, y = [1,0,0]\n",
        "# if class 1, y = [0,1,0]\n",
        "# if class 2, y = [0,0,1]\n",
        "y = np.array([1,0,0])\n",
        "\n",
        "# y_pred has probabilities\n",
        "y_pred_good = np.array([0.7,0.2,0.1])\n",
        "y_pred_bad = np.array([0.1,0.3,0.6])\n",
        "\n",
        "l1 = cross_entropy_loss(y, y_pred_good)\n",
        "l2 = cross_entropy_loss(y, y_pred_bad)\n",
        "\n",
        "print(\"loss 1: {:.4f}\".format(l1))\n",
        "print(\"loss 2: {:.4f}\".format(l2))\n",
        "\n",
        "# In PyTorch\n",
        "\n",
        "loss = nn.CrossEntropyLoss() \n",
        "# this loss already applies nn.LogSoftmax + nn.NLLLoss (neg log likelihood loss)\n",
        "# so we must not implement softmax layer ourselves.\n",
        "# Also for this nn.CrossEntropyLoss(), Y has class labels, not one-hot and y_pred has raw scores(logits) no softmax.\n",
        "\n",
        "y = torch.tensor([0])\n",
        "# nsamples*nclasses = 1x3\n",
        "\n",
        "y_pred_good = torch.tensor([[2.0, 1.0, 0.1]])\n",
        "y_pred_bad = torch.tensor([[0.5, 2.0, 0.3]])\n",
        "\n",
        "l1 = loss(y_pred_good, y)\n",
        "l2 = loss(y_pred_bad, y)\n",
        "\n",
        "print(\"loss 1: {:.4f}\".format(l1))\n",
        "print(\"loss 2: {:.4f}\".format(l2))\n",
        "\n",
        "_, pred1 = torch.max(y_pred_good, 1)\n",
        "_, pred2 = torch.max(y_pred_bad, 1)\n",
        "\n",
        "print(pred1)\n",
        "print(pred2)"
      ],
      "execution_count": 10,
      "outputs": [
        {
          "output_type": "stream",
          "text": [
            "loss 1: 0.3567\n",
            "loss 2: 2.3026\n",
            "loss 1: 0.4170\n",
            "loss 2: 1.8406\n",
            "tensor([0])\n",
            "tensor([1])\n"
          ],
          "name": "stdout"
        }
      ]
    },
    {
      "cell_type": "markdown",
      "metadata": {
        "id": "D0UtHSS17VE7"
      },
      "source": [
        "NEURAL NETWORKS"
      ]
    },
    {
      "cell_type": "code",
      "metadata": {
        "id": "AQ-WcTJw9Lv0"
      },
      "source": [
        "import torch\n",
        "import torch.nn as nn\n",
        "import torchvision # for datasets\n",
        "import torchvision.transforms as transforms\n",
        "import matplotlib.pyplot as plt"
      ],
      "execution_count": 12,
      "outputs": []
    },
    {
      "cell_type": "code",
      "metadata": {
        "id": "qjXTk1Tz9Lrg"
      },
      "source": [
        "# device config\n",
        "device = torch.device(\"cuda\" if torch.cuda.is_available() else \"cpu\")\n",
        "\n",
        "# hyperparameters\n",
        "input_size = 784 # 28x28\n",
        "hidden_size = 100\n",
        "num_classes = 10\n",
        "num_epochs = 2\n",
        "batch_size = 100\n",
        "learning_rate = 0.001\n",
        "\n",
        "# MNIST data\n",
        "train_dataset = torchvision.datasets.MNIST(\n",
        "    root=\"./\",\n",
        "    train=True,\n",
        "    transform=transforms.ToTensor(),\n",
        "    download=True\n",
        ")\n",
        "\n",
        "test_dataset = torchvision.datasets.MNIST(\n",
        "    root=\"./\",\n",
        "    train=False,\n",
        "    transform=transforms.ToTensor()\n",
        ")\n",
        "\n",
        "# Dataloader\n",
        "train_loader = torch.utils.data.DataLoader(\n",
        "    dataset=train_dataset,\n",
        "    batch_size=batch_size,\n",
        "    shuffle=True\n",
        ")\n",
        "\n",
        "test_loader = torch.utils.data.DataLoader(\n",
        "    dataset=test_dataset,\n",
        "    batch_size=batch_size,\n",
        "    shuffle=False\n",
        ")\n",
        "\n",
        "examples = iter(train_loader)\n",
        "samples, labels = examples.next()\n",
        "print(samples.shape, labels.shape)"
      ],
      "execution_count": null,
      "outputs": []
    },
    {
      "cell_type": "code",
      "metadata": {
        "colab": {
          "base_uri": "https://localhost:8080/",
          "height": 267
        },
        "id": "3UWl6h8x_Qxr",
        "outputId": "93b0ad3a-2d40-4946-f52a-639a84357532"
      },
      "source": [
        "# plotting samples\n",
        "for i in range(6):\n",
        "    plt.subplot(2, 3, i+1)\n",
        "    plt.imshow(samples[i][0], cmap='gray')\n",
        "plt.show()"
      ],
      "execution_count": 24,
      "outputs": [
        {
          "output_type": "display_data",
          "data": {
            "image/png": "[encoded data removed]",
            "text/plain": [
              "<Figure size 432x288 with 6 Axes>"
            ]
          },
          "metadata": {
            "tags": [],
            "needs_background": "light"
          }
        }
      ]
    },
    {
      "cell_type": "code",
      "metadata": {
        "colab": {
          "base_uri": "https://localhost:8080/"
        },
        "id": "PDiVCL8lwaMj",
        "outputId": "96cef20c-5872-43c4-8cf8-db1ee5cac7db"
      },
      "source": [
        "# model\n",
        "class NeuralNetwork(nn.Module):\n",
        "    def __init__(self, input_size, hidden_size, output_size):\n",
        "        super(NeuralNetwork, self).__init__()\n",
        "        # layers\n",
        "        self.linear1 = nn.Linear(input_size, hidden_size)\n",
        "        self.relu = nn.ReLU()\n",
        "        self.linear2 = nn.Linear(hidden_size, output_size)\n",
        "        self.sigmoid = nn.Sigmoid()\n",
        "    \n",
        "    def forward(self, X):\n",
        "        out = self.linear1(X)\n",
        "        out = self.relu(out)\n",
        "        out = self.linear2(out)\n",
        "        # out = self.sigmoid(out) # as this is a multiclass problem, don't apply softmax fun\n",
        "        return out\n",
        "\n",
        "model = NeuralNetwork(input_size, hidden_size, num_classes)\n",
        "\n",
        "# loss and optimizer\n",
        "loss = nn.CrossEntropyLoss()\n",
        "optimizer = torch.optim.Adam(model.parameters(), lr=learning_rate)\n",
        "\n",
        "# training\n",
        "n_total_steps = len(train_loader)\n",
        "\n",
        "for epoch in range(num_epochs):\n",
        "    for i, (images, labels) in enumerate(train_loader):\n",
        "        images = images.reshape(-1, 28*28).to(device)\n",
        "        labels = labels.to(device)\n",
        "\n",
        "        # forward prop\n",
        "        y_pred = model(images)\n",
        "        # compute loss\n",
        "        l = loss(y_pred, labels)\n",
        "        # backward prop\n",
        "        l.backward()\n",
        "        # weights update\n",
        "        optimizer.step()\n",
        "        optimizer.zero_grad()\n",
        "\n",
        "        if (i+1)%100 == 0:\n",
        "            print(\"epoch {}/{}, step {}/{}, loss = {:.8f}\".format(epoch+1, num_epochs, i+1, n_total_steps, l.item()))"
      ],
      "execution_count": 27,
      "outputs": [
        {
          "output_type": "stream",
          "text": [
            "epoch 1/2, step 100/600, loss = 0.54439235\n",
            "epoch 1/2, step 200/600, loss = 0.30515817\n",
            "epoch 1/2, step 300/600, loss = 0.29702604\n",
            "epoch 1/2, step 400/600, loss = 0.16601175\n",
            "epoch 1/2, step 500/600, loss = 0.11688229\n",
            "epoch 1/2, step 600/600, loss = 0.19543718\n",
            "epoch 2/2, step 100/600, loss = 0.28708392\n",
            "epoch 2/2, step 200/600, loss = 0.08348958\n",
            "epoch 2/2, step 300/600, loss = 0.20402947\n",
            "epoch 2/2, step 400/600, loss = 0.23433864\n",
            "epoch 2/2, step 500/600, loss = 0.24089774\n",
            "epoch 2/2, step 600/600, loss = 0.31893793\n"
          ],
          "name": "stdout"
        }
      ]
    },
    {
      "cell_type": "code",
      "metadata": {
        "colab": {
          "base_uri": "https://localhost:8080/"
        },
        "id": "9hdAEApXwbUb",
        "outputId": "e046ef1b-fd35-4e72-f68c-546117e39d9c"
      },
      "source": [
        "# testing\n",
        "with torch.no_grad():\n",
        "\n",
        "    n_correct = 0\n",
        "    n_samples = 0\n",
        "\n",
        "    for images, labels in test_loader:\n",
        "        images = images.reshape(-1, 28*28).to(device)\n",
        "        labels = labels.to(device)\n",
        "        outputs = model(images)\n",
        "\n",
        "        _, preds = torch.max(outputs, 1) # value, index\n",
        "        n_samples += labels.shape[0]\n",
        "        n_correct += (preds == labels).sum().item()\n",
        "    \n",
        "    accuracy = 100*(n_correct/n_samples)\n",
        "    print(\"Accuracy: {:.2f}\".format(accuracy))"
      ],
      "execution_count": 30,
      "outputs": [
        {
          "output_type": "stream",
          "text": [
            "Accuracy: 95.51\n"
          ],
          "name": "stdout"
        }
      ]
    },
    {
      "cell_type": "markdown",
      "metadata": {
        "id": "4l8KHG5Q4K-x"
      },
      "source": [
        "CONVOLUTIONAL NEURAL NETWORKS"
      ]
    },
    {
      "cell_type": "code",
      "metadata": {
        "id": "qAOt8vrNwbQK"
      },
      "source": [
        "import torch\n",
        "import torch.nn as nn\n",
        "import torch.nn.functional as F\n",
        "import torchvision\n",
        "import torchvision.transforms as transforms\n",
        "import matplotlib.pyplot as plt\n",
        "import numpy as np\n",
        "\n",
        "# Device configuration\n",
        "device = torch.device('cuda' if torch.cuda.is_available() else 'cpu')\n",
        "\n",
        "# Hyper-parameters \n",
        "num_epochs = 5\n",
        "batch_size = 4\n",
        "learning_rate = 0.001\n",
        "\n",
        "# dataset has PILImage images of range [0, 1]. \n",
        "# We transform them to Tensors of normalized range [-1, 1]\n",
        "transform = transforms.Compose(\n",
        "    [transforms.ToTensor(),\n",
        "     transforms.Normalize((0.5, 0.5, 0.5), (0.5, 0.5, 0.5))])\n",
        "\n",
        "# CIFAR10: 60000 32x32 color images in 10 classes, with 6000 images per class\n",
        "train_dataset = torchvision.datasets.CIFAR10(root='./data', train=True,\n",
        "                                        download=True, transform=transform)\n",
        "\n",
        "test_dataset = torchvision.datasets.CIFAR10(root='./data', train=False,\n",
        "                                       download=True, transform=transform)\n",
        "\n",
        "train_loader = torch.utils.data.DataLoader(train_dataset, batch_size=batch_size,\n",
        "                                          shuffle=True)\n",
        "\n",
        "test_loader = torch.utils.data.DataLoader(test_dataset, batch_size=batch_size,\n",
        "                                         shuffle=False)\n",
        "\n",
        "classes = ('plane', 'car', 'bird', 'cat',\n",
        "           'deer', 'dog', 'frog', 'horse', 'ship', 'truck')\n",
        "\n",
        "def imshow(img):\n",
        "    img = img / 2 + 0.5  # unnormalize\n",
        "    npimg = img.numpy()\n",
        "    plt.imshow(np.transpose(npimg, (1, 2, 0)))\n",
        "    plt.show()\n",
        "\n",
        "\n",
        "# get some random training images\n",
        "dataiter = iter(train_loader)\n",
        "images, labels = dataiter.next()\n",
        "\n",
        "# show images\n",
        "imshow(torchvision.utils.make_grid(images))\n",
        "\n",
        "class ConvNet(nn.Module):\n",
        "    def __init__(self):\n",
        "        super(ConvNet, self).__init__()\n",
        "        self.conv1 = nn.Conv2d(3, 6, 5)\n",
        "        self.pool = nn.MaxPool2d(2, 2)\n",
        "        self.conv2 = nn.Conv2d(6, 16, 5)\n",
        "        self.fc1 = nn.Linear(16 * 5 * 5, 120)\n",
        "        self.fc2 = nn.Linear(120, 84)\n",
        "        self.fc3 = nn.Linear(84, 10)\n",
        "\n",
        "    def forward(self, x):\n",
        "        # -> n, 3, 32, 32\n",
        "        x = self.pool(F.relu(self.conv1(x)))  # -> n, 6, 14, 14\n",
        "        x = self.pool(F.relu(self.conv2(x)))  # -> n, 16, 5, 5\n",
        "        x = x.view(-1, 16 * 5 * 5)            # -> n, 400\n",
        "        x = F.relu(self.fc1(x))               # -> n, 120\n",
        "        x = F.relu(self.fc2(x))               # -> n, 84\n",
        "        x = self.fc3(x)                       # -> n, 10\n",
        "        return x\n",
        "\n",
        "\n",
        "model = ConvNet().to(device)\n",
        "\n",
        "criterion = nn.CrossEntropyLoss()\n",
        "optimizer = torch.optim.SGD(model.parameters(), lr=learning_rate)\n",
        "\n",
        "n_total_steps = len(train_loader)\n",
        "for epoch in range(num_epochs):\n",
        "    for i, (images, labels) in enumerate(train_loader):\n",
        "        # origin shape: [4, 3, 32, 32] = 4, 3, 1024\n",
        "        # input_layer: 3 input channels, 6 output channels, 5 kernel size\n",
        "        images = images.to(device)\n",
        "        labels = labels.to(device)\n",
        "\n",
        "        # Forward pass\n",
        "        outputs = model(images)\n",
        "        loss = criterion(outputs, labels)\n",
        "\n",
        "        # Backward and optimize\n",
        "        optimizer.zero_grad()\n",
        "        loss.backward()\n",
        "        optimizer.step()\n",
        "\n",
        "        if (i+1) % 2000 == 0:\n",
        "            print (f'Epoch [{epoch+1}/{num_epochs}], Step [{i+1}/{n_total_steps}], Loss: {loss.item():.4f}')\n",
        "\n",
        "print('Finished Training')\n",
        "PATH = './cnn.pth'\n",
        "torch.save(model.state_dict(), PATH)\n",
        "\n",
        "with torch.no_grad():\n",
        "    n_correct = 0\n",
        "    n_samples = 0\n",
        "    n_class_correct = [0 for i in range(10)]\n",
        "    n_class_samples = [0 for i in range(10)]\n",
        "    for images, labels in test_loader:\n",
        "        images = images.to(device)\n",
        "        labels = labels.to(device)\n",
        "        outputs = model(images)\n",
        "        # max returns (value ,index)\n",
        "        _, predicted = torch.max(outputs, 1)\n",
        "        n_samples += labels.size(0)\n",
        "        n_correct += (predicted == labels).sum().item()\n",
        "        \n",
        "        for i in range(batch_size):\n",
        "            label = labels[i]\n",
        "            pred = predicted[i]\n",
        "            if (label == pred):\n",
        "                n_class_correct[label] += 1\n",
        "            n_class_samples[label] += 1\n",
        "\n",
        "    acc = 100.0 * n_correct / n_samples\n",
        "    print(f'Accuracy of the network: {acc} %')\n",
        "\n",
        "    for i in range(10):\n",
        "        acc = 100.0 * n_class_correct[i] / n_class_samples[i]\n",
        "        print(f'Accuracy of {classes[i]}: {acc} %')"
      ],
      "execution_count": null,
      "outputs": []
    },
    {
      "cell_type": "code",
      "metadata": {
        "id": "llSeM4et4Y22"
      },
      "source": [
        ""
      ],
      "execution_count": null,
      "outputs": []
    },
    {
      "cell_type": "code",
      "metadata": {
        "id": "f5cIeG3y4YzO"
      },
      "source": [
        ""
      ],
      "execution_count": null,
      "outputs": []
    },
    {
      "cell_type": "code",
      "metadata": {
        "id": "EHT8EWY54YxF"
      },
      "source": [
        ""
      ],
      "execution_count": null,
      "outputs": []
    }
  ]
}